{
 "cells": [
  {
   "cell_type": "markdown",
   "metadata": {
    "collapsed": true
   },
   "source": [
    "## The Battle of the Neighborhoods - Part 1"
   ]
  },
  {
   "cell_type": "markdown",
   "metadata": {},
   "source": [
    "### Introduction & Business Problem :"
   ]
  },
  {
   "cell_type": "markdown",
   "metadata": {},
   "source": [
    "###  Problem Background:"
   ]
  },
  {
   "cell_type": "markdown",
   "metadata": {},
   "source": [
    "The City of Barcelona is one of the most populous city in Spain. Located on the coast of the Mediterranean Sea, its urban area extends to numerous neighbouring municipalities within the Province of Barcelona and is home to around 4.8 million people. \n",
    "\n",
    "Barcelona is one of the world's leading tourist, economic, trade fair and cultural centres, and its influence in commerce, education, entertainment, media, fashion, science, and the arts all contribute to its status as one of the world's major global cities. This also means that the market is highly competitive. As it is a highly developed city so cost of doing business is also one of the highest.\n",
    "\n",
    "Thus, any new business venture or expansion needs to be analysed carefully. The insights derived from analysis will give good understanding of the business environment which help in strategically targeting the market. This will help in reduction of risk. And the Return on Investment will be reasonable."
   ]
  },
  {
   "cell_type": "markdown",
   "metadata": {},
   "source": [
    "###  Problem Description:"
   ]
  },
  {
   "cell_type": "markdown",
   "metadata": {},
   "source": [
    "Grupo Upper is a powerful supermarket cooperative, based in the Region of Murcia. Since its creation more than 30 years ago, it has been expanding in the southern Spain, now because of its intentions for becoming one of the most important supermarket groups in Spain, has decided to create its first supermarket in the city of Barcelona.\n",
    "\n",
    "Before opening, The Company believe it is very important to develop a startegically plan. Various factors need to be studied in order to decide on the right location such as : <Br>\n",
    "\n",
    "1. Segmentation of the Borough. <Br>\n",
    "2. Barcelona Population. <Br>\n",
    "3. Barcelona Demographics. <Br>\n",
    "4. Level of Life and umplunemployement by neighbourhood.  <Br>\n",
    "5. Price of Comercials Properties.\n",
    "6. Are there any venues like University, Schools, Entertainmnet zones, Parks etc nearby where floating population is high etc. <Br>\n",
    "7. Who are the competitors in that location? <Br>\n",
    "\n",
    "The list can go on...\n",
    "    "
   ]
  },
  {
   "cell_type": "markdown",
   "metadata": {},
   "source": [
    "### Target Audience:"
   ]
  },
  {
   "cell_type": "markdown",
   "metadata": {},
   "source": [
    "To recommend the correct location, Grupo Upper has appointed me to lead the Data Science team. The objective is to locate which neighborhood of Barcelona will be the best choice to start a supermarket. The Management also expects to understand the rationale of the recommendations made."
   ]
  },
  {
   "cell_type": "markdown",
   "metadata": {},
   "source": [
    "###  Success Criteria:"
   ]
  },
  {
   "cell_type": "markdown",
   "metadata": {},
   "source": [
    "The success criteria of the project will be a good recommendation of neighborhood choice to Grupo Upper."
   ]
  },
  {
   "cell_type": "markdown",
   "metadata": {},
   "source": [
    "### Data :"
   ]
  },
  {
   "cell_type": "markdown",
   "metadata": {},
   "source": [
    "One city will be analysed in this project : ***Barcelona***. \n",
    "\n",
    "We will be using the below datasets for analysing Barcelona"
   ]
  },
  {
   "cell_type": "markdown",
   "metadata": {},
   "source": [
    "***Data 1 :*** \n",
    "Neighborhood has a total of 10 districs and 73 neighborhoods. In order to segement the neighborhoods and explore them, we will essentially need a dataset that contains the districs and the neighborhoods.\n",
    "\n",
    "This dataset exists on Wikipedia:\n",
    "https://es.wikipedia.org/wiki/Distritos_de_Barcelona"
   ]
  },
  {
   "cell_type": "markdown",
   "metadata": {},
   "source": [
    "***Data 2 :*** For the below analysis we will get data from Barcelona's City Hall Open Data Services as given below : <Br>\n",
    "1. Barcelona Population <Br>\n",
    "https://opendata-ajuntament.barcelona.cat/data/en/dataset/est-ine-edat-any-a-any\n",
    "\n",
    "2. Age of the population in the city of Barcelona <Br>\n",
    "https://opendata-ajuntament.barcelona.cat/data/en/dataset/est-padro-edat-any-a-any\n",
    "\n",
    "3. Unemployement by neighbourhood in the city of Barcelona <Br>\n",
    "https://opendata-ajuntament.barcelona.cat/data/en/dataset/est-atur-sexe\n",
    "\n",
    "4. List prices of commercial properties in the city of Barcelona <Br>\n",
    "https://opendata-ajuntament.barcelona.cat/data/en/dataset/locllo-a\n",
    "\n"
   ]
  },
  {
   "cell_type": "markdown",
   "metadata": {},
   "source": [
    "***Data 3 :*** Barcelona geographical coordinates data will be utilized as input for the Foursquare API, that will be leveraged to provision venues information for each neighborhood.We will use the Foursquare API to explore neighborhoods in Barcelona."
   ]
  }
 ],
 "metadata": {
  "kernelspec": {
   "display_name": "Python 3",
   "language": "python",
   "name": "python3"
  },
  "language_info": {
   "codemirror_mode": {
    "name": "ipython",
    "version": 3
   },
   "file_extension": ".py",
   "mimetype": "text/x-python",
   "name": "python",
   "nbconvert_exporter": "python",
   "pygments_lexer": "ipython3",
   "version": "3.6.7"
  }
 },
 "nbformat": 4,
 "nbformat_minor": 1
}
